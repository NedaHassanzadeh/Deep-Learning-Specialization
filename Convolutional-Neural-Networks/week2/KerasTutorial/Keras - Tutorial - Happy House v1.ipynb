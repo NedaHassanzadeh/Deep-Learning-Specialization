{
 "cells": [
  {
   "cell_type": "markdown",
   "metadata": {},
   "source": [
    "# Keras tutorial - the Happy House\n",
    "\n",
    "Welcome to the first assignment of week 2. In this assignment, you will:\n",
    "1. Learn to use Keras, a high-level neural networks API (programming framework), written in Python and capable of running on top of several lower-level frameworks including TensorFlow and CNTK. \n",
    "2. See how you can in a couple of hours build a deep learning algorithm.\n",
    "\n",
    "Why are we using Keras? Keras was developed to enable deep learning engineers to build and experiment with different models very quickly. Just as TensorFlow is a higher-level framework than Python, Keras is an even higher-level framework and provides additional abstractions. Being able to go from idea to result with the least possible delay is key to finding good models. However, Keras is more restrictive than the lower-level frameworks, so there are some very complex models that you can implement in TensorFlow but not (without more difficulty) in Keras. That being said, Keras will work fine for many common models. \n",
    "\n",
    "In this exercise, you'll work on the \"Happy House\" problem, which we'll explain below. Let's load the required packages and solve the problem of the Happy House!"
   ]
  },
  {
   "cell_type": "code",
   "execution_count": 2,
   "metadata": {},
   "outputs": [],
   "source": [
    "import numpy as np\n",
    "from keras import layers\n",
    "from keras.layers import Input, Dense, Activation, ZeroPadding2D, BatchNormalization, Flatten, Conv2D\n",
    "from keras.layers import AveragePooling2D, MaxPooling2D, Dropout, GlobalMaxPooling2D, GlobalAveragePooling2D\n",
    "from keras.models import Model\n",
    "from keras.preprocessing import image\n",
    "from keras.utils import layer_utils\n",
    "from keras.utils.data_utils import get_file\n",
    "from keras.applications.imagenet_utils import preprocess_input\n",
    "import pydot\n",
    "from IPython.display import SVG\n",
    "from keras.utils.vis_utils import model_to_dot\n",
    "from keras.utils.vis_utils import plot_model\n",
    "from kt_utils import *\n",
    "\n",
    "import keras.backend as K\n",
    "K.set_image_data_format('channels_last')\n",
    "import matplotlib.pyplot as plt\n",
    "from matplotlib.pyplot import imshow\n",
    "\n",
    "%matplotlib inline"
   ]
  },
  {
   "cell_type": "markdown",
   "metadata": {},
   "source": [
    "**Note**: As you can see, we've imported a lot of functions from Keras. You can use them easily just by calling them directly in the notebook. Ex: `X = Input(...)` or `X = ZeroPadding2D(...)`."
   ]
  },
  {
   "cell_type": "markdown",
   "metadata": {},
   "source": [
    "## 1 - The Happy House \n",
    "\n",
    "For your next vacation, you decided to spend a week with five of your friends from school. It is a very convenient house with many things to do nearby. But the most important benefit is that everybody has commited to be happy when they are in the house. So anyone wanting to enter the house must prove their current state of happiness.\n",
    "\n",
    "<img src=\"images/happy-house.jpg\" style=\"width:350px;height:270px;\">\n",
    "<caption><center> <u> <font color='purple'> **Figure 1** </u><font color='purple'>  : **the Happy House**</center></caption>\n",
    "\n",
    "\n",
    "As a deep learning expert, to make sure the \"Happy\" rule is strictly applied, you are going to build an algorithm which that uses pictures from the front door camera to check if the person is happy or not. The door should open only if the person is happy. \n",
    "\n",
    "You have gathered pictures of your friends and yourself, taken by the front-door camera. The dataset is labbeled. \n",
    "\n",
    "<img src=\"images/house-members.png\" style=\"width:550px;height:250px;\">\n",
    "\n",
    "Run the following code to normalize the dataset and learn about its shapes."
   ]
  },
  {
   "cell_type": "code",
   "execution_count": 3,
   "metadata": {},
   "outputs": [
    {
     "name": "stdout",
     "output_type": "stream",
     "text": [
      "number of training examples = 600\n",
      "number of test examples = 150\n",
      "X_train shape: (600, 64, 64, 3)\n",
      "Y_train shape: (600, 1)\n",
      "X_test shape: (150, 64, 64, 3)\n",
      "Y_test shape: (150, 1)\n"
     ]
    }
   ],
   "source": [
    "X_train_orig, Y_train_orig, X_test_orig, Y_test_orig, classes = load_dataset()\n",
    "\n",
    "# Normalize image vectors\n",
    "X_train = X_train_orig/255.\n",
    "X_test = X_test_orig/255.\n",
    "\n",
    "# Reshape\n",
    "Y_train = Y_train_orig.T\n",
    "Y_test = Y_test_orig.T\n",
    "\n",
    "print (\"number of training examples = \" + str(X_train.shape[0]))\n",
    "print (\"number of test examples = \" + str(X_test.shape[0]))\n",
    "print (\"X_train shape: \" + str(X_train.shape))\n",
    "print (\"Y_train shape: \" + str(Y_train.shape))\n",
    "print (\"X_test shape: \" + str(X_test.shape))\n",
    "print (\"Y_test shape: \" + str(Y_test.shape))"
   ]
  },
  {
   "cell_type": "markdown",
   "metadata": {},
   "source": [
    "**Details of the \"Happy\" dataset**:\n",
    "- Images are of shape (64,64,3)\n",
    "- Training: 600 pictures\n",
    "- Test: 150 pictures\n",
    "\n",
    "It is now time to solve the \"Happy\" Challenge."
   ]
  },
  {
   "cell_type": "markdown",
   "metadata": {},
   "source": [
    "## 2 - Building a model in Keras\n",
    "\n",
    "Keras is very good for rapid prototyping. In just a short time you will be able to build a model that achieves outstanding results.\n",
    "\n",
    "Here is an example of a model in Keras:\n",
    "\n",
    "```python\n",
    "def model(input_shape):\n",
    "    # Define the input placeholder as a tensor with shape input_shape. Think of this as your input image!\n",
    "    X_input = Input(input_shape)\n",
    "\n",
    "    # Zero-Padding: pads the border of X_input with zeroes\n",
    "    X = ZeroPadding2D((3, 3))(X_input)\n",
    "\n",
    "    # CONV -> BN -> RELU Block applied to X\n",
    "    X = Conv2D(32, (7, 7), strides = (1, 1), name = 'conv0')(X)\n",
    "    X = BatchNormalization(axis = 3, name = 'bn0')(X)\n",
    "    X = Activation('relu')(X)\n",
    "\n",
    "    # MAXPOOL\n",
    "    X = MaxPooling2D((2, 2), name='max_pool')(X)\n",
    "\n",
    "    # FLATTEN X (means convert it to a vector) + FULLYCONNECTED\n",
    "    X = Flatten()(X)\n",
    "    X = Dense(1, activation='sigmoid', name='fc')(X)\n",
    "\n",
    "    # Create model. This creates your Keras model instance, you'll use this instance to train/test the model.\n",
    "    model = Model(inputs = X_input, outputs = X, name='HappyModel')\n",
    "    \n",
    "    return model\n",
    "```\n",
    "\n",
    "Note that Keras uses a different convention with variable names than we've previously used with numpy and TensorFlow. In particular, rather than creating and assigning a new variable on each step of forward propagation such as `X`, `Z1`, `A1`, `Z2`, `A2`, etc. for the computations for the different layers, in Keras code each line above just reassigns `X` to a new value using `X = ...`. In other words, during each step of forward propagation, we are just writing the latest value in the commputation into the same variable `X`. The only exception was `X_input`, which we kept separate and did not overwrite, since we needed it at the end to create the Keras model instance (`model = Model(inputs = X_input, ...)` above). \n",
    "\n",
    "**Exercise**: Implement a `HappyModel()`. This assignment is more open-ended than most. We suggest that you start by implementing a model using the architecture we suggest, and run through the rest of this assignment using that as your initial model. But after that, come back and take initiative to try out other model architectures. For example, you might take inspiration from the model above, but then vary the network architecture and hyperparameters however you wish. You can also use other functions such as `AveragePooling2D()`, `GlobalMaxPooling2D()`, `Dropout()`. \n",
    "\n",
    "**Note**: You have to be careful with your data's shapes. Use what you've learned in the videos to make sure your convolutional, pooling and fully-connected layers are adapted to the volumes you're applying it to."
   ]
  },
  {
   "cell_type": "code",
   "execution_count": 4,
   "metadata": {},
   "outputs": [],
   "source": [
    "# GRADED FUNCTION: HappyModel\n",
    "\n",
    "def HappyModel(input_shape):\n",
    "    \"\"\"\n",
    "    Implementation of the HappyModel.\n",
    "    \n",
    "    Arguments:\n",
    "    input_shape -- shape of the images of the dataset\n",
    "\n",
    "    Returns:\n",
    "    model -- a Model() instance in Keras\n",
    "    \"\"\"\n",
    "    \n",
    "    ### START CODE HERE ###\n",
    "    # Feel free to use the suggested outline in the text above to get started, and run through the whole\n",
    "    # exercise (including the later portions of this notebook) once. The come back also try out other\n",
    "    # network architectures as well. \n",
    "        # Define the input placeholder as a tensor with shape input_shape. Think of this as your input image!\n",
    "    X_input = Input(input_shape)\n",
    "\n",
    "    # Zero-Padding: pads the border of X_input with zeroes\n",
    "    X = ZeroPadding2D((3, 3))(X_input)\n",
    "\n",
    "    # CONV -> BN -> RELU Block applied to X\n",
    "    X = Conv2D(32, (7, 7), strides=(1, 1), name='conv0')(X)\n",
    "    X = BatchNormalization(axis=3, name='bn0')(X)\n",
    "    X = Activation('relu')(X)\n",
    "\n",
    "    # MAXPOOL\n",
    "    X = MaxPooling2D((2, 2), name='max_pool')(X)\n",
    "\n",
    "    # FLATTEN X (means convert it to a vector) + FULLYCONNECTED\n",
    "    X = Flatten()(X)\n",
    "    X = Dense(1, activation='sigmoid', name='fc')(X)\n",
    "\n",
    "    # Create model. This creates your Keras model instance, you'll use this instance to train/test the model.\n",
    "    model = Model(inputs=X_input, outputs=X, name='HappyModel')\n",
    "\n",
    "    return model\n",
    "    ### END CODE HERE ###\n",
    "    \n",
    "    return model"
   ]
  },
  {
   "cell_type": "markdown",
   "metadata": {},
   "source": [
    "You have now built a function to describe your model. To train and test this model, there are four steps in Keras:\n",
    "1. Create the model by calling the function above\n",
    "2. Compile the model by calling `model.compile(optimizer = \"...\", loss = \"...\", metrics = [\"accuracy\"])`\n",
    "3. Train the model on train data by calling `model.fit(x = ..., y = ..., epochs = ..., batch_size = ...)`\n",
    "4. Test the model on test data by calling `model.evaluate(x = ..., y = ...)`\n",
    "\n",
    "If you want to know more about `model.compile()`, `model.fit()`, `model.evaluate()` and their arguments, refer to the official [Keras documentation](https://keras.io/models/model/).\n",
    "\n",
    "**Exercise**: Implement step 1, i.e. create the model."
   ]
  },
  {
   "cell_type": "code",
   "execution_count": 5,
   "metadata": {},
   "outputs": [],
   "source": [
    "### START CODE HERE ### (1 line)\n",
    "\n",
    "happyModel =HappyModel(X_train.shape[1:])\n",
    "\n",
    "### END CODE HERE ###"
   ]
  },
  {
   "cell_type": "markdown",
   "metadata": {},
   "source": [
    "**Exercise**: Implement step 2, i.e. compile the model to configure the learning process. Choose the 3 arguments of `compile()` wisely. Hint: the Happy Challenge is a binary classification problem."
   ]
  },
  {
   "cell_type": "code",
   "execution_count": 6,
   "metadata": {},
   "outputs": [],
   "source": [
    "### START CODE HERE ### (1 line)\n",
    "\n",
    "happyModel.compile('adam', 'binary_crossentropy', metrics= ['accuracy'])\n",
    "\n",
    "### END CODE HERE ###"
   ]
  },
  {
   "cell_type": "markdown",
   "metadata": {},
   "source": [
    "**Exercise**: Implement step 3, i.e. train the model. Choose the number of epochs and the batch size."
   ]
  },
  {
   "cell_type": "code",
   "execution_count": 9,
   "metadata": {},
   "outputs": [
    {
     "name": "stdout",
     "output_type": "stream",
     "text": [
      "Epoch 1/50\n",
      "12/12 [==============================] - 1s 101ms/step - loss: 0.0334 - accuracy: 0.9933\n",
      "Epoch 2/50\n",
      "12/12 [==============================] - 1s 100ms/step - loss: 0.0215 - accuracy: 0.9967\n",
      "Epoch 3/50\n",
      "12/12 [==============================] - 1s 104ms/step - loss: 0.0260 - accuracy: 0.9950\n",
      "Epoch 4/50\n",
      "12/12 [==============================] - 1s 101ms/step - loss: 0.0206 - accuracy: 0.9917\n",
      "Epoch 5/50\n",
      "12/12 [==============================] - 1s 104ms/step - loss: 0.0292 - accuracy: 0.9933\n",
      "Epoch 6/50\n",
      "12/12 [==============================] - 1s 105ms/step - loss: 0.0163 - accuracy: 0.9967\n",
      "Epoch 7/50\n",
      "12/12 [==============================] - 1s 108ms/step - loss: 0.0397 - accuracy: 0.9883\n",
      "Epoch 8/50\n",
      "12/12 [==============================] - 1s 112ms/step - loss: 0.0306 - accuracy: 0.9950\n",
      "Epoch 9/50\n",
      "12/12 [==============================] - 1s 108ms/step - loss: 0.0208 - accuracy: 0.9983\n",
      "Epoch 10/50\n",
      "12/12 [==============================] - 1s 114ms/step - loss: 0.0252 - accuracy: 0.9883\n",
      "Epoch 11/50\n",
      "12/12 [==============================] - 1s 109ms/step - loss: 0.0266 - accuracy: 0.9933\n",
      "Epoch 12/50\n",
      "12/12 [==============================] - 1s 116ms/step - loss: 0.0157 - accuracy: 0.9967\n",
      "Epoch 13/50\n",
      "12/12 [==============================] - 1s 118ms/step - loss: 0.0158 - accuracy: 0.9950\n",
      "Epoch 14/50\n",
      "12/12 [==============================] - 1s 115ms/step - loss: 0.0240 - accuracy: 0.9967\n",
      "Epoch 15/50\n",
      "12/12 [==============================] - 1s 119ms/step - loss: 0.0101 - accuracy: 0.9983\n",
      "Epoch 16/50\n",
      "12/12 [==============================] - 1s 116ms/step - loss: 0.0076 - accuracy: 1.0000\n",
      "Epoch 17/50\n",
      "12/12 [==============================] - 1s 119ms/step - loss: 0.0106 - accuracy: 0.9983\n",
      "Epoch 18/50\n",
      "12/12 [==============================] - 2s 142ms/step - loss: 0.0103 - accuracy: 0.9983\n",
      "Epoch 19/50\n",
      "12/12 [==============================] - 2s 128ms/step - loss: 0.0089 - accuracy: 0.9967\n",
      "Epoch 20/50\n",
      "12/12 [==============================] - 2s 131ms/step - loss: 0.0085 - accuracy: 0.9983\n",
      "Epoch 21/50\n",
      "12/12 [==============================] - 2s 125ms/step - loss: 0.0105 - accuracy: 0.9933\n",
      "Epoch 22/50\n",
      "12/12 [==============================] - 2s 129ms/step - loss: 0.0078 - accuracy: 0.9983\n",
      "Epoch 23/50\n",
      "12/12 [==============================] - 2s 126ms/step - loss: 0.0120 - accuracy: 0.9950\n",
      "Epoch 24/50\n",
      "12/12 [==============================] - 1s 124ms/step - loss: 0.0113 - accuracy: 0.9983\n",
      "Epoch 25/50\n",
      "12/12 [==============================] - 2s 131ms/step - loss: 0.0138 - accuracy: 0.9950\n",
      "Epoch 26/50\n",
      "12/12 [==============================] - 1s 118ms/step - loss: 0.0172 - accuracy: 0.9967\n",
      "Epoch 27/50\n",
      "12/12 [==============================] - 1s 123ms/step - loss: 0.0056 - accuracy: 1.0000\n",
      "Epoch 28/50\n",
      "12/12 [==============================] - 2s 127ms/step - loss: 0.0070 - accuracy: 1.0000\n",
      "Epoch 29/50\n",
      "12/12 [==============================] - 1s 122ms/step - loss: 0.0092 - accuracy: 0.9967\n",
      "Epoch 30/50\n",
      "12/12 [==============================] - 1s 121ms/step - loss: 0.0067 - accuracy: 1.0000\n",
      "Epoch 31/50\n",
      "12/12 [==============================] - 1s 120ms/step - loss: 0.0048 - accuracy: 1.0000\n",
      "Epoch 32/50\n",
      "12/12 [==============================] - 1s 122ms/step - loss: 0.0045 - accuracy: 0.9983\n",
      "Epoch 33/50\n",
      "12/12 [==============================] - 1s 117ms/step - loss: 0.0047 - accuracy: 0.9983\n",
      "Epoch 34/50\n",
      "12/12 [==============================] - 1s 123ms/step - loss: 0.0082 - accuracy: 0.9967\n",
      "Epoch 35/50\n",
      "12/12 [==============================] - 1s 120ms/step - loss: 0.0035 - accuracy: 1.0000\n",
      "Epoch 36/50\n",
      "12/12 [==============================] - 1s 121ms/step - loss: 0.0048 - accuracy: 1.0000\n",
      "Epoch 37/50\n",
      "12/12 [==============================] - 1s 125ms/step - loss: 0.0029 - accuracy: 1.0000\n",
      "Epoch 38/50\n",
      "12/12 [==============================] - 2s 135ms/step - loss: 0.0030 - accuracy: 1.0000\n",
      "Epoch 39/50\n",
      "12/12 [==============================] - 2s 204ms/step - loss: 0.0134 - accuracy: 0.9933\n",
      "Epoch 40/50\n",
      "12/12 [==============================] - 3s 210ms/step - loss: 0.0169 - accuracy: 0.9967\n",
      "Epoch 41/50\n",
      "12/12 [==============================] - 2s 199ms/step - loss: 0.0063 - accuracy: 1.0000\n",
      "Epoch 42/50\n",
      "12/12 [==============================] - 2s 192ms/step - loss: 0.0062 - accuracy: 0.9983\n",
      "Epoch 43/50\n",
      "12/12 [==============================] - 2s 186ms/step - loss: 0.0051 - accuracy: 0.9967\n",
      "Epoch 44/50\n",
      "12/12 [==============================] - 2s 194ms/step - loss: 0.0043 - accuracy: 1.0000\n",
      "Epoch 45/50\n",
      "12/12 [==============================] - 2s 196ms/step - loss: 0.0102 - accuracy: 0.9950\n",
      "Epoch 46/50\n",
      "12/12 [==============================] - 2s 194ms/step - loss: 0.0067 - accuracy: 0.9983\n",
      "Epoch 47/50\n",
      "12/12 [==============================] - 2s 190ms/step - loss: 0.0088 - accuracy: 0.9983\n",
      "Epoch 48/50\n",
      "12/12 [==============================] - 2s 198ms/step - loss: 0.0040 - accuracy: 1.0000\n",
      "Epoch 49/50\n",
      "12/12 [==============================] - 2s 192ms/step - loss: 0.0056 - accuracy: 1.0000\n",
      "Epoch 50/50\n",
      "12/12 [==============================] - 2s 196ms/step - loss: 0.0052 - accuracy: 0.9983\n"
     ]
    },
    {
     "data": {
      "text/plain": [
       "<keras.callbacks.History at 0x7f921753d9d0>"
      ]
     },
     "execution_count": 9,
     "metadata": {},
     "output_type": "execute_result"
    }
   ],
   "source": [
    "### START CODE HERE ### (1 line)\n",
    "\n",
    "happyModel.fit(X_train, Y_train, epochs= 50, batch_size= 50)\n",
    "\n",
    "### END CODE HERE ###"
   ]
  },
  {
   "cell_type": "markdown",
   "metadata": {},
   "source": [
    "Note that if you run `fit()` again, the `model` will continue to train with the parameters it has already learnt instead of reinitializing them.\n",
    "\n",
    "**Exercise**: Implement step 4, i.e. test/evaluate the model."
   ]
  },
  {
   "cell_type": "code",
   "execution_count": 10,
   "metadata": {
    "scrolled": true
   },
   "outputs": [
    {
     "name": "stdout",
     "output_type": "stream",
     "text": [
      "5/5 [==============================] - 0s 35ms/step - loss: 0.0858 - accuracy: 0.9667\n",
      "\n",
      "Loss = 0.08578240871429443\n",
      "Test Accuracy = 0.9666666388511658\n"
     ]
    }
   ],
   "source": [
    "### START CODE HERE ### (1 line)\n",
    "\n",
    "preds = happyModel.evaluate(X_test, Y_test, batch_size= 32, verbose= 1, sample_weight= None)\n",
    "\n",
    "### END CODE HERE ###\n",
    "print()\n",
    "print (\"Loss = \" + str(preds[0]))\n",
    "print (\"Test Accuracy = \" + str(preds[1]))"
   ]
  },
  {
   "cell_type": "markdown",
   "metadata": {},
   "source": [
    "If your `happyModel()` function worked, you should have observed much better than random-guessing (50%) accuracy on the train and test sets. To pass this assignment, you have to get at least 75% accuracy. \n",
    "\n",
    "To give you a point of comparison, our model gets around **95% test accuracy in 40 epochs** (and 99% train accuracy) with a mini batch size of 16 and \"adam\" optimizer. But our model gets decent accuracy after just 2-5 epochs, so if you're comparing different models you can also train a variety of models on just a few epochs and see how they compare. \n",
    "\n",
    "If you have not yet achieved 75% accuracy, here're some things you can play around with to try to achieve it:\n",
    "\n",
    "- Try using blocks of CONV->BATCHNORM->RELU such as:\n",
    "```python\n",
    "X = Conv2D(32, (3, 3), strides = (1, 1), name = 'conv0')(X)\n",
    "X = BatchNormalization(axis = 3, name = 'bn0')(X)\n",
    "X = Activation('relu')(X)\n",
    "```\n",
    "until your height and width dimensions are quite low and your number of channels quite large (≈32 for example). You are encoding useful information in a volume with a lot of channels. You can then flatten the volume and use a fully-connected layer.\n",
    "- You can use MAXPOOL after such blocks. It will help you lower the dimension in height and width.\n",
    "- Change your optimizer. We find Adam works well. \n",
    "- If the model is struggling to run and you get memory issues, lower your batch_size (12 is usually a good compromise)\n",
    "- Run on more epochs, until you see the train accuracy plateauing. \n",
    "\n",
    "Even if you have achieved 75% accuracy, please feel free to keep playing with your model to try to get even better results. \n",
    "\n",
    "**Note**: If you perform hyperparameter tuning on your model, the test set actually becomes a dev set, and your model might end up overfitting to the test (dev) set. But just for the purpose of this assignment, we won't worry about that here.\n"
   ]
  },
  {
   "cell_type": "markdown",
   "metadata": {},
   "source": [
    "## 3 - Conclusion\n",
    "\n",
    "Congratulations, you have solved the Happy House challenge! \n",
    "\n",
    "Now, you just need to link this model to the front-door camera of your house. We unfortunately won't go into the details of how to do that here. "
   ]
  },
  {
   "cell_type": "markdown",
   "metadata": {},
   "source": [
    "<font color='blue'>\n",
    "**What we would like you to remember from this assignment:**\n",
    "- Keras is a tool we recommend for rapid prototyping. It allows you to quickly try out different model architectures. Are there any applications of deep learning to your daily life that you'd like to implement using Keras? \n",
    "- Remember how to code a model in Keras and the four steps leading to the evaluation of your model on the test set. Create->Compile->Fit/Train->Evaluate/Test."
   ]
  },
  {
   "cell_type": "markdown",
   "metadata": {},
   "source": [
    "## 4 - Test with your own image (Optional)\n",
    "\n",
    "Congratulations on finishing this assignment. You can now take a picture of your face and see if you could enter the Happy House. To do that:\n",
    "    1. Click on \"File\" in the upper bar of this notebook, then click \"Open\" to go on your Coursera Hub.\n",
    "    2. Add your image to this Jupyter Notebook's directory, in the \"images\" folder\n",
    "    3. Write your image's name in the following code\n",
    "    4. Run the code and check if the algorithm is right (0 is unhappy, 1 is happy)!\n",
    "    \n",
    "The training/test sets were quite similar; for example, all the pictures were taken against the same background (since a front door camera is always mounted in the same position). This makes the problem easier, but a model trained on this data may or may not work on your own data. But feel free to give it a try! "
   ]
  },
  {
   "cell_type": "code",
   "execution_count": 11,
   "metadata": {},
   "outputs": [
    {
     "name": "stdout",
     "output_type": "stream",
     "text": [
      "[[1.]]\n"
     ]
    },
    {
     "data": {
      "image/png": "[encoded data removed]",
      "text/plain": [
       "<Figure size 432x288 with 1 Axes>"
      ]
     },
     "metadata": {
      "needs_background": "light"
     },
     "output_type": "display_data"
    }
   ],
   "source": [
    "### START CODE HERE ###\n",
    "img_path = 'images/my_image.jpg'\n",
    "### END CODE HERE ###\n",
    "img = image.load_img(img_path, target_size=(64, 64))\n",
    "imshow(img)\n",
    "\n",
    "x = image.img_to_array(img)\n",
    "x = np.expand_dims(x, axis=0)\n",
    "x = preprocess_input(x)\n",
    "\n",
    "print(happyModel.predict(x))"
   ]
  },
  {
   "cell_type": "markdown",
   "metadata": {},
   "source": [
    "## 5 - Other useful functions in Keras (Optional)\n",
    "\n",
    "Two other basic features of Keras that you'll find useful are:\n",
    "- `model.summary()`: prints the details of your layers in a table with the sizes of its inputs/outputs\n",
    "- `plot_model()`: plots your graph in a nice layout. You can even save it as \".png\" using SVG() if you'd like to share it on social media ;). It is saved in \"File\" then \"Open...\" in the upper bar of the notebook.\n",
    "\n",
    "Run the following code."
   ]
  },
  {
   "cell_type": "code",
   "execution_count": 12,
   "metadata": {
    "scrolled": false
   },
   "outputs": [
    {
     "name": "stdout",
     "output_type": "stream",
     "text": [
      "Model: \"HappyModel\"\n",
      "_________________________________________________________________\n",
      "Layer (type)                 Output Shape              Param #   \n",
      "=================================================================\n",
      "input_1 (InputLayer)         [(None, 64, 64, 3)]       0         \n",
      "_________________________________________________________________\n",
      "zero_padding2d (ZeroPadding2 (None, 70, 70, 3)         0         \n",
      "_________________________________________________________________\n",
      "conv0 (Conv2D)               (None, 64, 64, 32)        4736      \n",
      "_________________________________________________________________\n",
      "bn0 (BatchNormalization)     (None, 64, 64, 32)        128       \n",
      "_________________________________________________________________\n",
      "activation (Activation)      (None, 64, 64, 32)        0         \n",
      "_________________________________________________________________\n",
      "max_pool (MaxPooling2D)      (None, 32, 32, 32)        0         \n",
      "_________________________________________________________________\n",
      "flatten (Flatten)            (None, 32768)             0         \n",
      "_________________________________________________________________\n",
      "fc (Dense)                   (None, 1)                 32769     \n",
      "=================================================================\n",
      "Total params: 37,633\n",
      "Trainable params: 37,569\n",
      "Non-trainable params: 64\n",
      "_________________________________________________________________\n"
     ]
    }
   ],
   "source": [
    "happyModel.summary()"
   ]
  },
  {
   "cell_type": "code",
   "execution_count": 13,
   "metadata": {},
   "outputs": [
    {
     "data": {
      "image/svg+xml": [
       "<svg xmlns=\"http://www.w3.org/2000/svg\" xmlns:xlink=\"http://www.w3.org/1999/xlink\" width=\"283pt\" height=\"741pt\" viewBox=\"0.00 0.00 212.00 556.00\">\n",
       "<g id=\"graph0\" class=\"graph\" transform=\"scale(1.33 1.33) rotate(0) translate(4 552)\">\n",
       "<title>G</title>\n",
       "<polygon fill=\"white\" stroke=\"transparent\" points=\"-4,4 -4,-552 208,-552 208,4 -4,4\"/>\n",
       "<!-- 140266066055568 -->\n",
       "<g id=\"node1\" class=\"node\">\n",
       "<title>140266066055568</title>\n",
       "<polygon fill=\"none\" stroke=\"black\" points=\"37.5,-511.5 37.5,-547.5 166.5,-547.5 166.5,-511.5 37.5,-511.5\"/>\n",
       "<text text-anchor=\"middle\" x=\"102\" y=\"-525.8\" font-family=\"Times,serif\" font-size=\"14.00\">input_1: InputLayer</text>\n",
       "</g>\n",
       "<!-- 140265774219856 -->\n",
       "<g id=\"node2\" class=\"node\">\n",
       "<title>140265774219856</title>\n",
       "<polygon fill=\"none\" stroke=\"black\" points=\"0,-438.5 0,-474.5 204,-474.5 204,-438.5 0,-438.5\"/>\n",
       "<text text-anchor=\"middle\" x=\"102\" y=\"-452.8\" font-family=\"Times,serif\" font-size=\"14.00\">zero_padding2d: ZeroPadding2D</text>\n",
       "</g>\n",
       "<!-- 140266066055568&#45;&gt;140265774219856 -->\n",
       "<g id=\"edge1\" class=\"edge\">\n",
       "<title>140266066055568-&gt;140265774219856</title>\n",
       "<path fill=\"none\" stroke=\"black\" d=\"M102,-511.31C102,-503.29 102,-493.55 102,-484.57\"/>\n",
       "<polygon fill=\"black\" stroke=\"black\" points=\"105.5,-484.53 102,-474.53 98.5,-484.53 105.5,-484.53\"/>\n",
       "</g>\n",
       "<!-- 140265774221488 -->\n",
       "<g id=\"node3\" class=\"node\">\n",
       "<title>140265774221488</title>\n",
       "<polygon fill=\"none\" stroke=\"black\" points=\"49,-365.5 49,-401.5 155,-401.5 155,-365.5 49,-365.5\"/>\n",
       "<text text-anchor=\"middle\" x=\"102\" y=\"-379.8\" font-family=\"Times,serif\" font-size=\"14.00\">conv0: Conv2D</text>\n",
       "</g>\n",
       "<!-- 140265774219856&#45;&gt;140265774221488 -->\n",
       "<g id=\"edge2\" class=\"edge\">\n",
       "<title>140265774219856-&gt;140265774221488</title>\n",
       "<path fill=\"none\" stroke=\"black\" d=\"M102,-438.31C102,-430.29 102,-420.55 102,-411.57\"/>\n",
       "<polygon fill=\"black\" stroke=\"black\" points=\"105.5,-411.53 102,-401.53 98.5,-411.53 105.5,-411.53\"/>\n",
       "</g>\n",
       "<!-- 140265774220768 -->\n",
       "<g id=\"node4\" class=\"node\">\n",
       "<title>140265774220768</title>\n",
       "<polygon fill=\"none\" stroke=\"black\" points=\"23,-292.5 23,-328.5 181,-328.5 181,-292.5 23,-292.5\"/>\n",
       "<text text-anchor=\"middle\" x=\"102\" y=\"-306.8\" font-family=\"Times,serif\" font-size=\"14.00\">bn0: BatchNormalization</text>\n",
       "</g>\n",
       "<!-- 140265774221488&#45;&gt;140265774220768 -->\n",
       "<g id=\"edge3\" class=\"edge\">\n",
       "<title>140265774221488-&gt;140265774220768</title>\n",
       "<path fill=\"none\" stroke=\"black\" d=\"M102,-365.31C102,-357.29 102,-347.55 102,-338.57\"/>\n",
       "<polygon fill=\"black\" stroke=\"black\" points=\"105.5,-338.53 102,-328.53 98.5,-338.53 105.5,-338.53\"/>\n",
       "</g>\n",
       "<!-- 140265774706944 -->\n",
       "<g id=\"node5\" class=\"node\">\n",
       "<title>140265774706944</title>\n",
       "<polygon fill=\"none\" stroke=\"black\" points=\"33.5,-219.5 33.5,-255.5 170.5,-255.5 170.5,-219.5 33.5,-219.5\"/>\n",
       "<text text-anchor=\"middle\" x=\"102\" y=\"-233.8\" font-family=\"Times,serif\" font-size=\"14.00\">activation: Activation</text>\n",
       "</g>\n",
       "<!-- 140265774220768&#45;&gt;140265774706944 -->\n",
       "<g id=\"edge4\" class=\"edge\">\n",
       "<title>140265774220768-&gt;140265774706944</title>\n",
       "<path fill=\"none\" stroke=\"black\" d=\"M102,-292.31C102,-284.29 102,-274.55 102,-265.57\"/>\n",
       "<polygon fill=\"black\" stroke=\"black\" points=\"105.5,-265.53 102,-255.53 98.5,-265.53 105.5,-265.53\"/>\n",
       "</g>\n",
       "<!-- 140265774707232 -->\n",
       "<g id=\"node6\" class=\"node\">\n",
       "<title>140265774707232</title>\n",
       "<polygon fill=\"none\" stroke=\"black\" points=\"19,-146.5 19,-182.5 185,-182.5 185,-146.5 19,-146.5\"/>\n",
       "<text text-anchor=\"middle\" x=\"102\" y=\"-160.8\" font-family=\"Times,serif\" font-size=\"14.00\">max_pool: MaxPooling2D</text>\n",
       "</g>\n",
       "<!-- 140265774706944&#45;&gt;140265774707232 -->\n",
       "<g id=\"edge5\" class=\"edge\">\n",
       "<title>140265774706944-&gt;140265774707232</title>\n",
       "<path fill=\"none\" stroke=\"black\" d=\"M102,-219.31C102,-211.29 102,-201.55 102,-192.57\"/>\n",
       "<polygon fill=\"black\" stroke=\"black\" points=\"105.5,-192.53 102,-182.53 98.5,-192.53 105.5,-192.53\"/>\n",
       "</g>\n",
       "<!-- 140265774900992 -->\n",
       "<g id=\"node7\" class=\"node\">\n",
       "<title>140265774900992</title>\n",
       "<polygon fill=\"none\" stroke=\"black\" points=\"53,-73.5 53,-109.5 151,-109.5 151,-73.5 53,-73.5\"/>\n",
       "<text text-anchor=\"middle\" x=\"102\" y=\"-87.8\" font-family=\"Times,serif\" font-size=\"14.00\">flatten: Flatten</text>\n",
       "</g>\n",
       "<!-- 140265774707232&#45;&gt;140265774900992 -->\n",
       "<g id=\"edge6\" class=\"edge\">\n",
       "<title>140265774707232-&gt;140265774900992</title>\n",
       "<path fill=\"none\" stroke=\"black\" d=\"M102,-146.31C102,-138.29 102,-128.55 102,-119.57\"/>\n",
       "<polygon fill=\"black\" stroke=\"black\" points=\"105.5,-119.53 102,-109.53 98.5,-119.53 105.5,-119.53\"/>\n",
       "</g>\n",
       "<!-- 140265775231664 -->\n",
       "<g id=\"node8\" class=\"node\">\n",
       "<title>140265775231664</title>\n",
       "<polygon fill=\"none\" stroke=\"black\" points=\"67,-0.5 67,-36.5 137,-36.5 137,-0.5 67,-0.5\"/>\n",
       "<text text-anchor=\"middle\" x=\"102\" y=\"-14.8\" font-family=\"Times,serif\" font-size=\"14.00\">fc: Dense</text>\n",
       "</g>\n",
       "<!-- 140265774900992&#45;&gt;140265775231664 -->\n",
       "<g id=\"edge7\" class=\"edge\">\n",
       "<title>140265774900992-&gt;140265775231664</title>\n",
       "<path fill=\"none\" stroke=\"black\" d=\"M102,-73.31C102,-65.29 102,-55.55 102,-46.57\"/>\n",
       "<polygon fill=\"black\" stroke=\"black\" points=\"105.5,-46.53 102,-36.53 98.5,-46.53 105.5,-46.53\"/>\n",
       "</g>\n",
       "</g>\n",
       "</svg>"
      ],
      "text/plain": [
       "<IPython.core.display.SVG object>"
      ]
     },
     "execution_count": 13,
     "metadata": {},
     "output_type": "execute_result"
    }
   ],
   "source": [
    "plot_model(happyModel, to_file='HappyModel.png')\n",
    "SVG(model_to_dot(happyModel).create(prog='dot', format='svg'))"
   ]
  }
 ],
 "metadata": {
  "kernelspec": {
   "display_name": "Python 3",
   "language": "python",
   "name": "python3"
  },
  "language_info": {
   "codemirror_mode": {
    "name": "ipython",
    "version": 3
   },
   "file_extension": ".py",
   "mimetype": "text/x-python",
   "name": "python",
   "nbconvert_exporter": "python",
   "pygments_lexer": "ipython3",
   "version": "3.8.8"
  }
 },
 "nbformat": 4,
 "nbformat_minor": 2
}
